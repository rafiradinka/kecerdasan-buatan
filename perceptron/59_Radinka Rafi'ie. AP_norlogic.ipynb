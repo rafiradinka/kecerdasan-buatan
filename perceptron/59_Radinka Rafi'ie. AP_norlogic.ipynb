{
 "cells": [
  {
   "cell_type": "code",
   "execution_count": 1,
   "metadata": {},
   "outputs": [],
   "source": [
    "# Radinka Rafi'ie Achmad P\n",
    "# 23106050059"
   ]
  },
  {
   "cell_type": "code",
   "execution_count": 2,
   "metadata": {},
   "outputs": [],
   "source": [
    "# importing Python library \n",
    "import numpy as np "
   ]
  },
  {
   "cell_type": "code",
   "execution_count": 3,
   "metadata": {},
   "outputs": [],
   "source": [
    "# define Unit Step Function \n",
    "def unitStep(v): \n",
    "    if v > 0: \n",
    "        return 1\n",
    "    else: \n",
    "        return 0"
   ]
  },
  {
   "cell_type": "code",
   "execution_count": 4,
   "metadata": {},
   "outputs": [],
   "source": [
    "# design Perceptron Model \n",
    "def perceptronModel(x, w, b): \n",
    "    v = np.dot(w, x) + b \n",
    "    y = unitStep(v) \n",
    "    return y "
   ]
  },
  {
   "cell_type": "code",
   "execution_count": 5,
   "metadata": {},
   "outputs": [],
   "source": [
    "# NOT Logic Function \n",
    "# wNOT = -1, bNOT = 1\n",
    "def NOT_logicFunction(x): \n",
    "    wNOT = -1\n",
    "    bNOT = 1\n",
    "    return perceptronModel(x, wNOT, bNOT) "
   ]
  },
  {
   "cell_type": "code",
   "execution_count": 6,
   "metadata": {},
   "outputs": [],
   "source": [
    "# OR Logic Function \n",
    "# w1 = 2, w2 = 2, bOR = -1\n",
    "def OR_logicFunction(x): \n",
    "    w = np.array([2, 2]) \n",
    "    bOR = -1\n",
    "    return perceptronModel(x, w, bOR) "
   ]
  },
  {
   "cell_type": "code",
   "execution_count": 7,
   "metadata": {},
   "outputs": [],
   "source": [
    "# NOR Logic Function \n",
    "# with OR and NOT   \n",
    "# function calls in sequence \n",
    "def NOR_logicFunction(x): \n",
    "    output_OR = OR_logicFunction(x) \n",
    "    output_NOT = NOT_logicFunction(output_OR) \n",
    "    return output_NOT "
   ]
  },
  {
   "cell_type": "code",
   "execution_count": 8,
   "metadata": {},
   "outputs": [],
   "source": [
    "# testing the Perceptron Model \n",
    "test1 = np.array([0, 1]) \n",
    "test2 = np.array([1, 1]) \n",
    "test3 = np.array([0, 0]) \n",
    "test4 = np.array([1, 0]) "
   ]
  },
  {
   "cell_type": "code",
   "execution_count": 9,
   "metadata": {},
   "outputs": [
    {
     "name": "stdout",
     "output_type": "stream",
     "text": [
      "NOR(0, 1) = 0\n",
      "NOR(1, 1) = 0\n",
      "NOR(0, 0) = 1\n",
      "NOR(1, 0) = 0\n"
     ]
    }
   ],
   "source": [
    "# hasil\n",
    "print(\"NOR({}, {}) = {}\".format(0, 1, NOR_logicFunction(test1))) \n",
    "print(\"NOR({}, {}) = {}\".format(1, 1, NOR_logicFunction(test2))) \n",
    "print(\"NOR({}, {}) = {}\".format(0, 0, NOR_logicFunction(test3))) \n",
    "print(\"NOR({}, {}) = {}\".format(1, 0, NOR_logicFunction(test4))) "
   ]
  }
 ],
 "metadata": {
  "kernelspec": {
   "display_name": "Python 3",
   "language": "python",
   "name": "python3"
  },
  "language_info": {
   "codemirror_mode": {
    "name": "ipython",
    "version": 3
   },
   "file_extension": ".py",
   "mimetype": "text/x-python",
   "name": "python",
   "nbconvert_exporter": "python",
   "pygments_lexer": "ipython3",
   "version": "3.12.6"
  }
 },
 "nbformat": 4,
 "nbformat_minor": 2
}
