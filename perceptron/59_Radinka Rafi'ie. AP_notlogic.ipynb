{
 "cells": [
  {
   "cell_type": "code",
   "execution_count": 1,
   "metadata": {},
   "outputs": [],
   "source": [
    "# Radinka Rafi'ie Achmad P\n",
    "# 23106050059"
   ]
  },
  {
   "cell_type": "code",
   "execution_count": 2,
   "metadata": {},
   "outputs": [],
   "source": [
    "# importing Python library \n",
    "import numpy as np "
   ]
  },
  {
   "cell_type": "code",
   "execution_count": 3,
   "metadata": {},
   "outputs": [],
   "source": [
    "# define Unit Step Function \n",
    "def unitStep(v): \n",
    "    if v > 0: \n",
    "        return 1\n",
    "    else: \n",
    "        return 0"
   ]
  },
  {
   "cell_type": "code",
   "execution_count": 4,
   "metadata": {},
   "outputs": [],
   "source": [
    "# design Perceptron Model \n",
    "def perceptronModel(x, w, b): \n",
    "    v = np.dot(w, x) + b \n",
    "    y = unitStep(v) \n",
    "    return y "
   ]
  },
  {
   "cell_type": "code",
   "execution_count": 5,
   "metadata": {},
   "outputs": [],
   "source": [
    "# NOT Logic Function \n",
    "# w = -1, b = 1\n",
    "def NOT_logicFunction(x): \n",
    "    w = -1\n",
    "    b = 1\n",
    "    return perceptronModel(x, w, b) "
   ]
  },
  {
   "cell_type": "code",
   "execution_count": 6,
   "metadata": {},
   "outputs": [],
   "source": [
    "# testing the Perceptron Model \n",
    "test1 = np.array(1) \n",
    "test2 = np.array(0) "
   ]
  },
  {
   "cell_type": "code",
   "execution_count": 7,
   "metadata": {},
   "outputs": [
    {
     "name": "stdout",
     "output_type": "stream",
     "text": [
      "NOT(1) = 0\n",
      "NOT(0) = 1\n"
     ]
    }
   ],
   "source": [
    "print(\"NOT({}) = {}\".format(1, NOT_logicFunction(test1))) \n",
    "print(\"NOT({}) = {}\".format(0, NOT_logicFunction(test2))) "
   ]
  }
 ],
 "metadata": {
  "kernelspec": {
   "display_name": "Python 3",
   "language": "python",
   "name": "python3"
  },
  "language_info": {
   "codemirror_mode": {
    "name": "ipython",
    "version": 3
   },
   "file_extension": ".py",
   "mimetype": "text/x-python",
   "name": "python",
   "nbconvert_exporter": "python",
   "pygments_lexer": "ipython3",
   "version": "3.12.6"
  }
 },
 "nbformat": 4,
 "nbformat_minor": 2
}
